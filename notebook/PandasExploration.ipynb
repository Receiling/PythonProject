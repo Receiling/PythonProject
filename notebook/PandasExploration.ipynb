{
 "cells": [
  {
   "cell_type": "markdown",
   "metadata": {
    "collapsed": true
   },
   "source": [
    "# Pandas Data Exploration\n",
    "***"
   ]
  },
  {
   "cell_type": "code",
   "execution_count": 13,
   "metadata": {
    "collapsed": false
   },
   "outputs": [],
   "source": [
    "from __future__ import division\n",
    "import sys, os\n",
    "\n",
    "from pandas import Series, DataFrame\n",
    "import pandas as pd\n",
    "import numpy as np\n",
    "\n",
    "%matplotlib inline\n",
    "import matplotlib.pyplot as plt\n",
    "\n",
    "np.random.seed(12345)\n",
    "np.set_printoptions(precision = 4)\n",
    "plt.rc('figure', figsize = (10, 6))\n",
    "br = '\\n'\n"
   ]
  },
  {
   "cell_type": "markdown",
   "metadata": {},
   "source": [
    "## Series\n",
    "***"
   ]
  },
  {
   "cell_type": "code",
   "execution_count": 22,
   "metadata": {
    "collapsed": false
   },
   "outputs": [
    {
     "name": "stdout",
     "output_type": "stream",
     "text": [
      "1    2\n",
      "2   -3\n",
      "3    5\n",
      "4    9\n",
      "dtype: int64\n",
      "[ 2 -3  5  9]\n",
      "Index([u'1', u'2', u'3', u'4'], dtype='object')\n",
      "2   -3\n",
      "3    5\n",
      "4    9\n",
      "dtype: int64\n",
      "1    2\n",
      "3    5\n",
      "4    9\n",
      "dtype: int64\n",
      "1     4\n",
      "2    -6\n",
      "3    10\n",
      "4    18\n",
      "dtype: int64\n",
      "1       7.389056\n",
      "2       0.049787\n",
      "3     148.413159\n",
      "4    8103.083928\n",
      "dtype: float64\n",
      "A    100\n",
      "B    200\n",
      "C    300\n",
      "D    400\n",
      "dtype: int64\n",
      "A    100.0\n",
      "B    200.0\n",
      "C    300.0\n",
      "E      NaN\n",
      "dtype: float64\n",
      "A    False\n",
      "B    False\n",
      "C    False\n",
      "E     True\n",
      "dtype: bool\n",
      "A    False\n",
      "B    False\n",
      "C    False\n",
      "E     True\n",
      "dtype: bool\n",
      "\n",
      "\n",
      "A    200.0\n",
      "B    400.0\n",
      "C    600.0\n",
      "D      NaN\n",
      "E      NaN\n",
      "dtype: float64\n",
      "state\n",
      "A    100.0\n",
      "B    200.0\n",
      "C    300.0\n",
      "E      NaN\n",
      "Name: poplution, dtype: float64\n"
     ]
    }
   ],
   "source": [
    "from pandas import Series, DataFrame\n",
    "import pandas as pd\n",
    "import numpy as np\n",
    "\n",
    "s = Series([2,-3,5,9], index = ['1','2','3','4'])\n",
    "print s\n",
    "print s.values\n",
    "print s.index\n",
    "print s[['2','3','4']]\n",
    "print s[s > 0]\n",
    "print s * 2\n",
    "print np.exp(s)\n",
    "\n",
    "sdata = {'A' : 100, 'B' : 200, 'C' : 300, 'D' : 400}\n",
    "ss = Series(sdata)\n",
    "print ss\n",
    "sindex = ['A', 'B', 'C', 'E']\n",
    "sv = Series(sdata, index = sindex)\n",
    "print sv\n",
    "print pd.isnull(sv)\n",
    "print sv.isnull()\n",
    "print '\\n'\n",
    "print ss + sv\n",
    "sv.name = 'poplution'\n",
    "sv.index.name = 'state'\n",
    "print sv"
   ]
  },
  {
   "cell_type": "markdown",
   "metadata": {
    "collapsed": true
   },
   "source": [
    "## DataFrame\n",
    "***"
   ]
  },
  {
   "cell_type": "code",
   "execution_count": null,
   "metadata": {
    "collapsed": true
   },
   "outputs": [],
   "source": []
  }
 ],
 "metadata": {
  "kernelspec": {
   "display_name": "Python 2",
   "language": "python",
   "name": "python2"
  },
  "language_info": {
   "codemirror_mode": {
    "name": "ipython",
    "version": 2
   },
   "file_extension": ".py",
   "mimetype": "text/x-python",
   "name": "python",
   "nbconvert_exporter": "python",
   "pygments_lexer": "ipython2",
   "version": "2.7.13"
  }
 },
 "nbformat": 4,
 "nbformat_minor": 2
}
