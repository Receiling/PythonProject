{
 "cells": [
  {
   "cell_type": "markdown",
   "metadata": {},
   "source": [
    "# Python的基本语法\n",
    "## #，'''用于注释"
   ]
  },
  {
   "cell_type": "markdown",
   "metadata": {},
   "source": [
    "## //表示整除"
   ]
  },
  {
   "cell_type": "code",
   "execution_count": 10,
   "metadata": {
    "collapsed": false
   },
   "outputs": [
    {
     "name": "stdout",
     "output_type": "stream",
     "text": [
      "1\n"
     ]
    }
   ],
   "source": [
    "a = 3\n",
    "b = 2\n",
    "print a // b"
   ]
  },
  {
   "cell_type": "code",
   "execution_count": 14,
   "metadata": {
    "collapsed": false
   },
   "outputs": [
    {
     "name": "stdout",
     "output_type": "stream",
     "text": [
      "1\n",
      "1.5\n"
     ]
    }
   ],
   "source": [
    "print 3 / 2\n",
    "print 3 / 2.0"
   ]
  },
  {
   "cell_type": "code",
   "execution_count": 15,
   "metadata": {
    "collapsed": false
   },
   "outputs": [
    {
     "name": "stdout",
     "output_type": "stream",
     "text": [
      "20\n",
      "10\n",
      "False\n"
     ]
    }
   ],
   "source": [
    "a = 10 \n",
    "b = 20\n",
    "\n",
    "print a and b #布尔\"与\" - 如果 x 为 False，x and y 返回 False，否则它返回 y 的计算值。\n",
    "print a or b  #布尔\"或\" - 如果 x 是非 0，它返回 x 的值，否则它返回 y 的计算值。\n",
    "print not a   #布尔\"非\" - 如果 x 为 True，返回 False 。如果 x 为 False，它返回 True。"
   ]
  },
  {
   "cell_type": "code",
   "execution_count": 16,
   "metadata": {
    "collapsed": false
   },
   "outputs": [
    {
     "name": "stdout",
     "output_type": "stream",
     "text": [
      "True\n"
     ]
    }
   ],
   "source": [
    "a = 10\n",
    "b = [1, 2, 3, 10] \n",
    "print a in b #如果在指定的序列中找到值返回 True，否则返回 False。"
   ]
  },
  {
   "cell_type": "code",
   "execution_count": 17,
   "metadata": {
    "collapsed": false
   },
   "outputs": [
    {
     "name": "stdout",
     "output_type": "stream",
     "text": [
      "a equal 3\n"
     ]
    }
   ],
   "source": [
    "a = 3\n",
    "\n",
    "if a == 2:\n",
    "    print \"a equal 2\"\n",
    "elif a == 3:\n",
    "    print \"a equal 3\"\n",
    "else:\n",
    "    print \"a not equal 2 nor 3\""
   ]
  },
  {
   "cell_type": "code",
   "execution_count": 18,
   "metadata": {
    "collapsed": false
   },
   "outputs": [
    {
     "name": "stdout",
     "output_type": "stream",
     "text": [
      "undefine\n"
     ]
    }
   ],
   "source": [
    "num = 8\n",
    "# 判断值是否在0~5或者10~15之间\n",
    "if (num >= 0 and num <= 5) or (num >= 10 and num <= 15):    \n",
    "    print 'hello'\n",
    "else:\n",
    "    print 'undefine'"
   ]
  },
  {
   "cell_type": "code",
   "execution_count": 19,
   "metadata": {
    "collapsed": false
   },
   "outputs": [
    {
     "name": "stdout",
     "output_type": "stream",
     "text": [
      "The count is: 0\n",
      "The count is: 1\n",
      "Good bye!\n"
     ]
    }
   ],
   "source": [
    "count = 0\n",
    "while (count < 2):\n",
    "   print 'The count is:', count\n",
    "   count = count + 1\n",
    " \n",
    "print \"Good bye!\""
   ]
  },
  {
   "cell_type": "code",
   "execution_count": 1,
   "metadata": {
    "collapsed": false
   },
   "outputs": [
    {
     "name": "stdout",
     "output_type": "stream",
     "text": [
      "Enter a number  :13\n",
      "You entered:  13\n",
      "Good bye!\n"
     ]
    }
   ],
   "source": [
    "var = 1\n",
    "while var == 1 :  # 该条件永远为true，循环将无限执行下去\n",
    "   num = raw_input(\"Enter a number  :\")\n",
    "   print \"You entered: \", num\n",
    "   var -= 1\n",
    " \n",
    "print \"Good bye!\""
   ]
  },
  {
   "cell_type": "code",
   "execution_count": 3,
   "metadata": {
    "collapsed": false
   },
   "outputs": [
    {
     "name": "stdout",
     "output_type": "stream",
     "text": [
      "当前字母 : P\n",
      "当前字母 : y\n",
      "当前字母 : t\n",
      "当前字母 : h\n",
      "当前字母 : o\n",
      "当前字母 : n\n",
      "当前水果 : banana\n",
      "当前水果 : apple\n",
      "当前水果 : mango\n",
      "当前水果 : banana\n",
      "当前水果 : apple\n",
      "当前水果 : mango\n"
     ]
    }
   ],
   "source": [
    "for letter in 'Python':     # 第一个实例\n",
    "   print '当前字母 :', letter\n",
    " \n",
    "fruits = ['banana', 'apple',  'mango']\n",
    "for fruit in fruits:        # 第二个实例\n",
    "   print '当前水果 :', fruit\n",
    "\n",
    "fruits = ['banana', 'apple',  'mango']\n",
    "for index in range(len(fruits)):\n",
    "   print '当前水果 :', fruits[index]"
   ]
  },
  {
   "cell_type": "code",
   "execution_count": 6,
   "metadata": {
    "collapsed": false
   },
   "outputs": [
    {
     "name": "stdout",
     "output_type": "stream",
     "text": [
      "5\n",
      "1.0\n",
      "1.232\n",
      "2.0\n"
     ]
    }
   ],
   "source": [
    "import math\n",
    "\n",
    "print max(range(3, 6))\n",
    "print round(1.00000, 3)\n",
    "print round(1.2324343, 3)\n",
    "\n",
    "print math.sqrt(4)"
   ]
  },
  {
   "cell_type": "code",
   "execution_count": 9,
   "metadata": {
    "collapsed": false
   },
   "outputs": [
    {
     "name": "stdout",
     "output_type": "stream",
     "text": [
      "14\n",
      "\n"
     ]
    }
   ],
   "source": [
    "x = 12\n",
    "print \"%o\\n\" % x"
   ]
  },
  {
   "cell_type": "code",
   "execution_count": 14,
   "metadata": {
    "collapsed": false
   },
   "outputs": [
    {
     "name": "stdout",
     "output_type": "stream",
     "text": [
      "This is python\n",
      "   this is python   \n",
      "world hello world\n",
      "网站名：菜鸟教程, 地址 www.runoob.com\n",
      "网站名：菜鸟教程, 地址 www.runoob.com\n",
      "网站名：菜鸟教程, 地址 www.runoob.com\n"
     ]
    }
   ],
   "source": [
    "str = \"this is python\"\n",
    "\n",
    "\n",
    "print str.capitalize()\n",
    "print str.center(20, ' ') #原字符串居中，并使用空格填充\n",
    "\n",
    "print \"{1} {0} {1}\".format(\"hello\", \"world\")  # 设置指定位置\n",
    "\n",
    "print(\"网站名：{name}, 地址 {url}\".format(name=\"菜鸟教程\", url=\"www.runoob.com\"))\n",
    " \n",
    "# 通过字典设置参数\n",
    "site = {\"name\": \"菜鸟教程\", \"url\": \"www.runoob.com\"}\n",
    "print(\"网站名：{name}, 地址 {url}\".format(**site))\n",
    " \n",
    "# 通过列表索引设置参数\n",
    "my_list = ['菜鸟教程', 'www.runoob.com']\n",
    "print(\"网站名：{0[0]}, 地址 {0[1]}\".format(my_list))  # \"0\" 是可选的"
   ]
  },
  {
   "cell_type": "code",
   "execution_count": 15,
   "metadata": {
    "collapsed": false
   },
   "outputs": [
    {
     "name": "stdout",
     "output_type": "stream",
     "text": [
      "th3s 3s str3ng 2x1mpl2....w4w!!!\n"
     ]
    }
   ],
   "source": [
    "from string import maketrans   # 必须调用 maketrans 函数。\n",
    "\n",
    "intab = \"aeiou\"\n",
    "outtab = \"12345\"\n",
    "trantab = maketrans(intab, outtab)\n",
    "\n",
    "str = \"this is string example....wow!!!\";\n",
    "print str.translate(trantab);"
   ]
  },
  {
   "cell_type": "code",
   "execution_count": 4,
   "metadata": {
    "collapsed": false
   },
   "outputs": [
    {
     "name": "stdout",
     "output_type": "stream",
     "text": [
      "55\n",
      "1\n",
      "[1, 2]\n",
      "['hello', 'www', 1, 2, 55, 'a']\n"
     ]
    }
   ],
   "source": [
    "list = [\"hello\", \"www\", 1, 2, 55, 'a']\n",
    "print list[4]\n",
    "print list[-4]  #倒数第四个元素\n",
    "print list[2:4]\n",
    "print list"
   ]
  },
  {
   "cell_type": "code",
   "execution_count": 6,
   "metadata": {
    "collapsed": false
   },
   "outputs": [
    {
     "name": "stdout",
     "output_type": "stream",
     "text": [
      "(50,)\n",
      "(300, 'abf')\n",
      "(50, 300, 'abf')\n"
     ]
    }
   ],
   "source": [
    "tup1 = (50,) #元组中只包含一个元素时，需要在元素后面添加逗号\n",
    "print tup1\n",
    "tup2 = (300, 'abf')\n",
    "print tup2\n",
    "tup3 = tup1 + tup2 #元组中的元素值是不允许修改的，但我们可以对元组进行连接组合\n",
    "print tup3\n",
    "del tup3"
   ]
  },
  {
   "cell_type": "code",
   "execution_count": 27,
   "metadata": {
    "collapsed": false
   },
   "outputs": [
    {
     "name": "stdout",
     "output_type": "stream",
     "text": [
      "<type 'dict'>\n",
      "Age 7\n",
      "Name Zara\n",
      "Class First\n",
      "dict['Age']:  8\n",
      "dict['School']:  DPS School\n",
      "{'School': 'DPS School', 'Age': 8, 'Name': 'Zara', 'Class': 'First'}\n",
      "{'Age': 8, 'Name': 'Zara', 'Class': 'First'}\n",
      "{}\n"
     ]
    }
   ],
   "source": [
    "dict = {'Name': 'Zara', 'Age': 7, 'Class': 'First'} #键必须不可变，所以可以用数字，字符串或元组充当，所以用列表就不行\n",
    "print type(dict)\n",
    "\n",
    "for key,value in dict.items():\n",
    "    print key,value\n",
    "dict['Age'] = 8; # update existing entry\n",
    "dict['School'] = \"DPS School\"; # Add new entry\n",
    " \n",
    " \n",
    "print \"dict['Age']: \", dict['Age'];\n",
    "print \"dict['School']: \", dict['School'];\n",
    "print dict\n",
    "\n",
    "del dict['School']\n",
    "print dict\n",
    "dict.clear()\n",
    "print dict\n",
    "del dict"
   ]
  },
  {
   "cell_type": "code",
   "execution_count": 29,
   "metadata": {
    "collapsed": false
   },
   "outputs": [
    {
     "name": "stdout",
     "output_type": "stream",
     "text": [
      "time.struct_time(tm_year=2017, tm_mon=7, tm_mday=6, tm_hour=20, tm_min=58, tm_sec=8, tm_wday=3, tm_yday=187, tm_isdst=0)\n",
      "Thu Jul 06 20:58:08 2017\n"
     ]
    }
   ],
   "source": [
    "import time\n",
    "\n",
    "localtime = time.localtime(time.time())\n",
    "print localtime\n",
    "localtime = time.asctime(localtime)\n",
    "print localtime"
   ]
  },
  {
   "cell_type": "code",
   "execution_count": 32,
   "metadata": {
    "collapsed": false
   },
   "outputs": [
    {
     "name": "stdout",
     "output_type": "stream",
     "text": [
      "     June 2017\n",
      "Mo Tu We Th Fr Sa Su\n",
      "          1  2  3  4\n",
      " 5  6  7  8  9 10 11\n",
      "12 13 14 15 16 17 18\n",
      "19 20 21 22 23 24 25\n",
      "26 27 28 29 30\n",
      "\n",
      "[[0, 0, 0, 1, 2, 3, 4], [5, 6, 7, 8, 9, 10, 11], [12, 13, 14, 15, 16, 17, 18], [19, 20, 21, 22, 23, 24, 25], [26, 27, 28, 29, 30, 0, 0]]\n"
     ]
    }
   ],
   "source": [
    "import calendar\n",
    "\n",
    "cal = calendar.month(2017,6)\n",
    "print cal\n",
    "cal = calendar.monthcalendar(2017, 6)\n",
    "print cal"
   ]
  },
  {
   "cell_type": "code",
   "execution_count": 33,
   "metadata": {
    "collapsed": false
   },
   "outputs": [
    {
     "name": "stdout",
     "output_type": "stream",
     "text": [
      "函数内是局部变量 :  30\n",
      "函数外是全局变量 :  0\n"
     ]
    }
   ],
   "source": [
    "total = 0; # 这是一个全局变量\n",
    "# 可写函数说明\n",
    "def sum( arg1, arg2 ):\n",
    "   #返回2个参数的和.\"\n",
    "   total = arg1 + arg2; # total在这里是局部变量.\n",
    "   print \"函数内是局部变量 : \", total\n",
    "   return total;\n",
    " \n",
    "#调用sum函数\n",
    "sum( 10, 20 );\n",
    "print \"函数外是全局变量 : \", total "
   ]
  },
  {
   "cell_type": "code",
   "execution_count": 38,
   "metadata": {
    "collapsed": false
   },
   "outputs": [
    {
     "ename": "SyntaxError",
     "evalue": "invalid syntax (<ipython-input-38-8433acb60348>, line 8)",
     "output_type": "error",
     "traceback": [
      "\u001b[0;36m  File \u001b[0;32m\"<ipython-input-38-8433acb60348>\"\u001b[0;36m, line \u001b[0;32m8\u001b[0m\n\u001b[0;31m    mye(0)                // 触发异常\u001b[0m\n\u001b[0m                             ^\u001b[0m\n\u001b[0;31mSyntaxError\u001b[0m\u001b[0;31m:\u001b[0m invalid syntax\n"
     ]
    }
   ],
   "source": [
    "# 定义函数\n",
    "def mye( level ):\n",
    "    if level < 1:\n",
    "        raise Exception(\"Invalid level!\", level)\n",
    "        # 触发异常后，后面的代码就不会再执行\n",
    "\n",
    "try:\n",
    "    mye(0)                // 触发异常\n",
    "except \"Invalid level!\":\n",
    "    print 1\n",
    "else:\n",
    "    print 2"
   ]
  },
  {
   "cell_type": "code",
   "execution_count": 1,
   "metadata": {
    "collapsed": false
   },
   "outputs": [
    {
     "name": "stdout",
     "output_type": "stream",
     "text": [
      "['Requirement already satisfied: numpy in d:\\\\anaconda2\\\\lib\\\\site-packages']\n"
     ]
    }
   ],
   "source": [
    "a = !pip install numpy\n",
    "print a"
   ]
  },
  {
   "cell_type": "code",
   "execution_count": 11,
   "metadata": {
    "collapsed": false
   },
   "outputs": [
    {
     "data": {
      "text/plain": [
       "[<matplotlib.lines.Line2D at 0xb190358>]"
      ]
     },
     "execution_count": 11,
     "metadata": {},
     "output_type": "execute_result"
    },
    {
     "data": {
      "image/png": "[encoded data removed]",
      "text/plain": [
       "<matplotlib.figure.Figure at 0x9885828>"
      ]
     },
     "metadata": {},
     "output_type": "display_data"
    }
   ],
   "source": [
    "import numpy as np\n",
    "import pandas as pd\n",
    "\n",
    "%matplotlib inline\n",
    "import matplotlib.pyplot as plt\n",
    "#plt.plot(np.arange(10))\n",
    "\n",
    "x = np.linspace(-10, 10, 1000)\n",
    "y = np.sin(x)\n",
    "plt.plot(x, y)"
   ]
  },
  {
   "cell_type": "code",
   "execution_count": 14,
   "metadata": {
    "collapsed": false
   },
   "outputs": [
    {
     "name": "stdout",
     "output_type": "stream",
     "text": [
      "Populating the interactive namespace from numpy and matplotlib\n"
     ]
    },
    {
     "data": {
      "text/plain": [
       "<matplotlib.image.AxesImage at 0xb589e10>"
      ]
     },
     "execution_count": 14,
     "metadata": {},
     "output_type": "execute_result"
    },
    {
     "data": {
      "image/png": "[encoded data removed]",
      "text/plain": [
       "<matplotlib.figure.Figure at 0x2aa1048>"
      ]
     },
     "metadata": {},
     "output_type": "display_data"
    }
   ],
   "source": [
    "import numpy as np\n",
    "import pandas as pd\n",
    "\n",
    "%pylab inline\n",
    "\n",
    "img = plt.imread('../image/stinkbug.png')\n",
    "imshow(img)"
   ]
  },
  {
   "cell_type": "code",
   "execution_count": 16,
   "metadata": {
    "collapsed": false
   },
   "outputs": [
    {
     "data": {
      "text/html": [
       "<div>\n",
       "<table border=\"1\" class=\"dataframe\">\n",
       "  <thead>\n",
       "    <tr style=\"text-align: right;\">\n",
       "      <th></th>\n",
       "      <th>Address</th>\n",
       "      <th>Building</th>\n",
       "      <th>Organization</th>\n",
       "    </tr>\n",
       "  </thead>\n",
       "  <tbody>\n",
       "    <tr>\n",
       "      <th>6680</th>\n",
       "      <td>林科技创业园</td>\n",
       "      <td>NaN</td>\n",
       "      <td>申通快递原华莺纺织</td>\n",
       "    </tr>\n",
       "    <tr>\n",
       "      <th>6681</th>\n",
       "      <td>春晖路</td>\n",
       "      <td>NaN</td>\n",
       "      <td>众安村村委易德购超市旁右边门卫处</td>\n",
       "    </tr>\n",
       "    <tr>\n",
       "      <th>6682</th>\n",
       "      <td>新屋门牌号</td>\n",
       "      <td>NaN</td>\n",
       "      <td>十三房村吉达来鞋厂</td>\n",
       "    </tr>\n",
       "    <tr>\n",
       "      <th>6683</th>\n",
       "      <td>红枫路</td>\n",
       "      <td>NaN</td>\n",
       "      <td>（电话联系）</td>\n",
       "    </tr>\n",
       "    <tr>\n",
       "      <th>6684</th>\n",
       "      <td>新感觉</td>\n",
       "      <td>NaN</td>\n",
       "      <td>伊锦苑美容美发</td>\n",
       "    </tr>\n",
       "  </tbody>\n",
       "</table>\n",
       "</div>"
      ],
      "text/plain": [
       "     Address Building      Organization\n",
       "6680  林科技创业园      NaN         申通快递原华莺纺织\n",
       "6681     春晖路      NaN  众安村村委易德购超市旁右边门卫处\n",
       "6682   新屋门牌号      NaN         十三房村吉达来鞋厂\n",
       "6683     红枫路      NaN            （电话联系）\n",
       "6684     新感觉      NaN           伊锦苑美容美发"
      ]
     },
     "execution_count": 16,
     "metadata": {},
     "output_type": "execute_result"
    }
   ],
   "source": [
    "import numpy as np\n",
    "import pandas as pd\n",
    "\n",
    "namelist = pd.read_csv('../data/xiaoshan.csv')\n",
    "#namelist.head()\n",
    "namelist.tail()"
   ]
  },
  {
   "cell_type": "code",
   "execution_count": 2,
   "metadata": {
    "collapsed": false
   },
   "outputs": [
    {
     "name": "stdout",
     "output_type": "stream",
     "text": [
      "hello, word\n",
      "Hi, mmmm, you have $100.0.\n"
     ]
    }
   ],
   "source": [
    "print \"hello, %s\" % 'word'\n",
    "print \"Hi, %s, you have $%s.\" % ('mmmm', 100.0)#%S永远起作用，它会把任何数据类型转换为字符串"
   ]
  },
  {
   "cell_type": "code",
   "execution_count": 3,
   "metadata": {
    "collapsed": false
   },
   "outputs": [
    {
     "name": "stdout",
     "output_type": "stream",
     "text": [
      "[0, 1, 4, 9, 16]\n"
     ]
    }
   ],
   "source": [
    "a = range(5)\n",
    "b = [i ** 2 for i in a]\n",
    "print b"
   ]
  },
  {
   "cell_type": "code",
   "execution_count": 5,
   "metadata": {
    "collapsed": false
   },
   "outputs": [
    {
     "name": "stdout",
     "output_type": "stream",
     "text": [
      "(2, 3, 2, 3)\n"
     ]
    }
   ],
   "source": [
    "a = (2, 3)\n",
    "b = (2)\n",
    "print a * b"
   ]
  },
  {
   "cell_type": "code",
   "execution_count": 7,
   "metadata": {
    "collapsed": false
   },
   "outputs": [
    {
     "name": "stdout",
     "output_type": "stream",
     "text": [
      "('age', 12)\n",
      "('name', 'wang')\n",
      "('sex', 'male')\n"
     ]
    }
   ],
   "source": [
    "a = {'name':'wang', 'age':12, 'sex':'male'}\n",
    "for i in a.iteritems(): print i"
   ]
  },
  {
   "cell_type": "code",
   "execution_count": 9,
   "metadata": {
    "collapsed": false
   },
   "outputs": [
    {
     "name": "stdout",
     "output_type": "stream",
     "text": [
      "set([1, 2, 3])\n"
     ]
    }
   ],
   "source": [
    "s = {1, 2, 3, 3}\n",
    "print s"
   ]
  },
  {
   "cell_type": "code",
   "execution_count": 10,
   "metadata": {
    "collapsed": false
   },
   "outputs": [
    {
     "name": "stdout",
     "output_type": "stream",
     "text": [
      "a is 10\n"
     ]
    }
   ],
   "source": [
    "a = 10\n",
    "if a > 10 :\n",
    "    print \"a is not 10\"\n",
    "elif a < 10 :\n",
    "    print \"a is not 10\"\n",
    "else :\n",
    "    print \"a is 10\""
   ]
  },
  {
   "cell_type": "markdown",
   "metadata": {},
   "source": [
    "## NumPy"
   ]
  },
  {
   "cell_type": "code",
   "execution_count": 26,
   "metadata": {
    "collapsed": false,
    "scrolled": true
   },
   "outputs": [
    {
     "name": "stdout",
     "output_type": "stream",
     "text": [
      "<type 'list'> [1, 2, 3, 4]\n",
      "<type 'numpy.ndarray'>\n",
      "[1 2 3 4]\n",
      "<type 'numpy.ndarray'> [[1 2 3 4]\n",
      " [1 3 4 5]]\n",
      "2\n",
      "(2L, 4L)\n",
      "int32\n",
      "[[ 0.  0.  0.  0.  0.]\n",
      " [ 0.  0.  0.  0.  0.]]\n",
      "[[ 1.  1.  1.]\n",
      " [ 1.  1.  1.]]\n",
      "[[ 1.  0.  0.]\n",
      " [ 0.  1.  0.]\n",
      " [ 0.  0.  1.]]\n",
      "[0, 1, 2, 3, 4]\n",
      "[ 1.  1.  1.  1.  1.]\n",
      "[[0, 1, 2, 3, 4] array([0, 1, 2, 3, 4]) array([ 0.,  0.,  0.])]\n",
      "[[ 1.  0.  0.]\n",
      " [ 0.  1.  0.]\n",
      " [ 0.  0.  1.]]\n",
      "int32\n",
      "float64 [ 1.  2.  3.  4.  5.]\n",
      "[ 3.7 -1.2 -2.6  0.5]\n",
      "[ 3 -1 -2  0]\n",
      "[ 3.7 -1.2 -2.6  0.5]\n",
      "arr: [[ 1.  2.  3.]\n",
      " [ 4.  5.  6.]]\n",
      "[[  2.   4.   6.]\n",
      " [  8.  10.  12.]]\n",
      "[[ 0.  0.  0.]\n",
      " [ 0.  0.  0.]]\n",
      "[[  1.   4.   9.]\n",
      " [ 16.  25.  36.]]\n",
      "[[ 1.          0.5         0.33333333]\n",
      " [ 0.25        0.2         0.16666667]]\n",
      "[[  1.   4.   9.]\n",
      " [ 16.  25.  36.]]\n"
     ]
    }
   ],
   "source": [
    "import numpy as np\n",
    "\n",
    "a = [1, 2, 3, 4]\n",
    "print type(a), a\n",
    "\n",
    "arr1 = np.array(a)\n",
    "print type(arr1)\n",
    "print arr1\n",
    "\n",
    "b = [[1, 2, 3, 4], [1, 3, 4, 5]]\n",
    "arr2 = np.array(b)\n",
    "print type(arr2), arr2\n",
    "print arr2.ndim  #多维数组的维度\n",
    "print arr2.shape #多维数组的形状\n",
    "print arr2.dtype\n",
    "\n",
    "print np.zeros((2, 5))\n",
    "print np.ones((2, 3))\n",
    "print np.empty((3, 3))\n",
    "\n",
    "a = range(5)\n",
    "print a\n",
    "b = np.array(a)\n",
    "c = np.zeros(3)\n",
    "d = np.ones(5)\n",
    "print d\n",
    "d = np.array((a, b, c))\n",
    "print d\n",
    "print np.eye(3)\n",
    "\n",
    "arr = np.array([1, 2, 3, 4, 5])\n",
    "print arr.dtype\n",
    "float_arr = arr.astype(np.float64)\n",
    "print float_arr.dtype, float_arr\n",
    "\n",
    "arr = np.array([3.7, -1.2, -2.6, 0.5])\n",
    "print arr\n",
    "print arr.astype(np.int32)\n",
    "print arr\n",
    "\n",
    "arr =np.array([[1., 2., 3.], [4., 5., 6.]])\n",
    "print \"arr:\", arr\n",
    "print arr + arr\n",
    "print arr - arr\n",
    "print arr * arr\n",
    "print 1 / arr\n",
    "print arr ** 2"
   ]
  },
  {
   "cell_type": "markdown",
   "metadata": {
    "collapsed": true
   },
   "source": [
    "## SciPy"
   ]
  },
  {
   "cell_type": "code",
   "execution_count": 7,
   "metadata": {
    "collapsed": false
   },
   "outputs": [
    {
     "name": "stdout",
     "output_type": "stream",
     "text": [
      "[[0 1 2]\n",
      " [3 4 5]\n",
      " [6 7 8]]\n",
      "[[ 0  1  4]\n",
      " [ 9 16 25]\n",
      " [36 49 64]]\n",
      "[[ 15  18  21]\n",
      " [ 42  54  66]\n",
      " [ 69  90 111]]\n",
      "[[ -1.67609695e+14   3.35219390e+14  -1.67609695e+14]\n",
      " [  3.35219390e+14  -6.70438779e+14   3.35219390e+14]\n",
      " [ -1.67609695e+14   3.35219390e+14  -1.67609695e+14]]\n",
      "[[ 1.71875 -1.5625   0.0625 ]\n",
      " [ 0.6875  -4.625    0.625  ]\n",
      " [-0.84375 -2.6875   2.6875 ]]\n"
     ]
    }
   ],
   "source": [
    "import scipy\n",
    "import numpy as np\n",
    "from scipy import linalg\n",
    "\n",
    "a = np.array([[0,1,2], [3,4,5], [6,7,8]])\n",
    "print a\n",
    "print a * a#numpy的相乘只是对应元素的相乘\n",
    "\n",
    "ma = scipy.mat(a) * scipy.mat(a)#scipy对应的才是真正的矩阵乘法'\n",
    "print ma\n",
    "mb = linalg.inv(ma)#求解逆矩阵\n",
    "print mb\n",
    "print ma * mb"
   ]
  },
  {
   "cell_type": "markdown",
   "metadata": {},
   "source": [
    "## Matplotlib"
   ]
  },
  {
   "cell_type": "code",
   "execution_count": 12,
   "metadata": {
    "collapsed": false
   },
   "outputs": [
    {
     "data": {
      "image/png": "[encoded data removed]",
      "text/plain": [
       "<matplotlib.figure.Figure at 0x83e75f8>"
      ]
     },
     "metadata": {},
     "output_type": "display_data"
    }
   ],
   "source": [
    "%matplotlib inline\n",
    "import matplotlib.pyplot as plt\n",
    "import numpy as np\n",
    "\n",
    "x = np.linspace(0, 10, 1000)\n",
    "y = np.sin(x) + 1\n",
    "z = np.cos(x ** 2) + 1\n",
    "\n",
    "plt.figure(figsize = (8, 4))\n",
    "plt.plot(x, y)\n",
    "plt.plot(x, z)\n",
    "plt.xlabel('Times(s)')\n",
    "plt.ylabel('Volt')\n",
    "plt.title('A Simple Example')\n",
    "plt.ylim(0, 2,2)\n",
    "plt.show()"
   ]
  },
  {
   "cell_type": "markdown",
   "metadata": {},
   "source": [
    "## Pandas"
   ]
  },
  {
   "cell_type": "code",
   "execution_count": 2,
   "metadata": {
    "collapsed": false
   },
   "outputs": [
    {
     "name": "stdout",
     "output_type": "stream",
     "text": [
      "a    1\n",
      "b    2\n",
      "c    3\n",
      "dtype: int64\n",
      "   a  b  c\n",
      "0  1  2  3\n",
      "1  4  5  6\n"
     ]
    },
    {
     "data": {
      "text/html": [
       "<div>\n",
       "<table border=\"1\" class=\"dataframe\">\n",
       "  <thead>\n",
       "    <tr style=\"text-align: right;\">\n",
       "      <th></th>\n",
       "      <th>0</th>\n",
       "      <th>1</th>\n",
       "      <th>2</th>\n",
       "      <th>3</th>\n",
       "      <th>4</th>\n",
       "    </tr>\n",
       "  </thead>\n",
       "  <tbody>\n",
       "    <tr>\n",
       "      <th>0</th>\n",
       "      <td>北京</td>\n",
       "      <td>18日（今天）</td>\n",
       "      <td>多云转小雪</td>\n",
       "      <td>2</td>\n",
       "      <td>-4</td>\n",
       "    </tr>\n",
       "    <tr>\n",
       "      <th>1</th>\n",
       "      <td>北京</td>\n",
       "      <td>19日（明天）</td>\n",
       "      <td>阴转晴</td>\n",
       "      <td>1</td>\n",
       "      <td>-8</td>\n",
       "    </tr>\n",
       "    <tr>\n",
       "      <th>2</th>\n",
       "      <td>北京</td>\n",
       "      <td>20日（后天）</td>\n",
       "      <td>晴转多云</td>\n",
       "      <td>0</td>\n",
       "      <td>-8</td>\n",
       "    </tr>\n",
       "    <tr>\n",
       "      <th>3</th>\n",
       "      <td>北京</td>\n",
       "      <td>21日（周六）</td>\n",
       "      <td>晴</td>\n",
       "      <td>1</td>\n",
       "      <td>-8</td>\n",
       "    </tr>\n",
       "    <tr>\n",
       "      <th>4</th>\n",
       "      <td>北京</td>\n",
       "      <td>22日（周日）</td>\n",
       "      <td>晴</td>\n",
       "      <td>-1</td>\n",
       "      <td>-9</td>\n",
       "    </tr>\n",
       "  </tbody>\n",
       "</table>\n",
       "</div>"
      ],
      "text/plain": [
       "    0        1      2  3  4\n",
       "0  北京  18日（今天）  多云转小雪  2 -4\n",
       "1  北京  19日（明天）    阴转晴  1 -8\n",
       "2  北京  20日（后天）   晴转多云  0 -8\n",
       "3  北京  21日（周六）      晴  1 -8\n",
       "4  北京  22日（周日）      晴 -1 -9"
      ]
     },
     "execution_count": 2,
     "metadata": {},
     "output_type": "execute_result"
    }
   ],
   "source": [
    "from pandas import Series, DataFrame\n",
    "import pandas as pd\n",
    "import numpy as np\n",
    "\n",
    "s = Series([1,2,3], index=['a','b','c'])\n",
    "print s\n",
    "\n",
    "d = DataFrame([[1,2,3],[4,5,6]], columns=['a', 'b', 'c'])\n",
    "print d\n",
    "d.describe()\n",
    "\n",
    "df = pd.read_csv('../data/WeatherResult.csv', header = None, encoding='GBK')\n",
    "df.head()"
   ]
  },
  {
   "cell_type": "code",
   "execution_count": null,
   "metadata": {
    "collapsed": true
   },
   "outputs": [],
   "source": []
  }
 ],
 "metadata": {
  "kernelspec": {
   "display_name": "Python 2",
   "language": "python",
   "name": "python2"
  },
  "language_info": {
   "codemirror_mode": {
    "name": "ipython",
    "version": 2
   },
   "file_extension": ".py",
   "mimetype": "text/x-python",
   "name": "python",
   "nbconvert_exporter": "python",
   "pygments_lexer": "ipython2",
   "version": "2.7.13"
  }
 },
 "nbformat": 4,
 "nbformat_minor": 2
}
